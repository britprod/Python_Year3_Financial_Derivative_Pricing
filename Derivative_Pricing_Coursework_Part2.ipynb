{
 "cells": [
  {
   "cell_type": "markdown",
   "metadata": {},
   "source": [
    "# U20690/M361 Financial Derivative Pricing"
   ]
  },
  {
   "cell_type": "markdown",
   "metadata": {},
   "source": [
    "# Coursework Q4, Q5"
   ]
  },
  {
   "cell_type": "markdown",
   "metadata": {},
   "source": [
    "- Answer ALL questions.\n",
    "- This is an INDIVIDUAL coursework.\n",
    "- This must be all your own work."
   ]
  },
  {
   "cell_type": "markdown",
   "metadata": {},
   "source": [
    "### INSTRUCTIONS\n",
    "\n",
    "- Test your functions to ensure that they perform the required calculations correctly.\n",
    "\n",
    "- Functions that are unused/untested won’t gain full marks.\n",
    "\n",
    "- Give variables and functions meaningful names.\n",
    "\n",
    "- Make your code clear.\n",
    "\n",
    "- Bracket expressions only where needed; do not use extra redundant brackets.\n",
    "\n",
    "- You may choose to split large tasks or functions into\n",
    "smaller pieces, each of which performs a well-defined part of the\n",
    "calculation.  (However, don't overdo this!  Only introduce smaller\n",
    "functions if they perform a well-defined task and make the program\n",
    "clearer.)\n",
    "\n",
    "- Where appropriate, you should always **use** functions\n",
    "that you have already defined earlier in your answers, to help with\n",
    "later questions, rather than duplicating code.\n",
    "\n",
    "- Your answers will be compared carefully; ensure that you do the work yourself.\n",
    "\n",
    "- You must use the techniques taught in the unit.  Searching for answers on the web, that will use different techniques and styles, will not gain marks and will incur severe penalties and/or disciplinary action for cheating.\n",
    "\n",
    "- Where explanations are required, type them into text/markdown cells or add them as clear comments in code cells.  You may wish to use LaTeX if you want, but this is not expected; the main thing is that your working is clear.\n",
    "\n",
    "- Coursework submission will be electronic: see the Moodle page."
   ]
  },
  {
   "cell_type": "markdown",
   "metadata": {},
   "source": [
    "### STUDENT REFERENCE NUMBER\n",
    "\n",
    "Type your 6-digit student reference number in place of `xxxxxx` in the following cell:"
   ]
  },
  {
   "cell_type": "code",
   "execution_count": 1,
   "metadata": {
    "tags": [
     "student_id"
    ]
   },
   "outputs": [],
   "source": [
    "# 902897"
   ]
  },
  {
   "cell_type": "markdown",
   "metadata": {},
   "source": [
    "#### QUESTION 4 [25 MARKS]\n",
    "\n",
    "You may use the following functions for the normal probability density function (PDF), $\\varphi(x)$, and cumulative distribution function (CDF), $\\Phi(d)$:"
   ]
  },
  {
   "cell_type": "code",
   "execution_count": 2,
   "metadata": {},
   "outputs": [],
   "source": [
    "import numpy as np\n",
    "import scipy.special\n",
    "\n",
    "def phi(x):\n",
    "    return np.exp(-0.5*x**2)/np.sqrt(2*np.pi)\n",
    "    \n",
    "def Phi(d):\n",
    "    return 0.5*(1 + scipy.special.erf(d/np.sqrt(2)))"
   ]
  },
  {
   "cell_type": "markdown",
   "metadata": {},
   "source": [
    "##### Q4(a)\n",
    "\n",
    "A **ramp option**, $R$, has payoff function\n",
    "\n",
    "$$\n",
    "R_T=\n",
    "\\left\\{\\begin{array}{ll}\n",
    "0 & \\mbox{if $S_T>K$,}\\\\\n",
    "S_T & \\mbox{otherwise,}\n",
    "\\end{array}\\right.\n",
    "$$\n",
    "\n",
    "Write a python function that computes this payoff as a function of the final price $S_T$ and the strike $K$.\n",
    "\n",
    "[Hint: you may use the function np.where(A, B, C) in which A is a logical condition (true/false expression), and B and C are the desired results in the cases where A is true or false, respectively. As an example, the payoff of a call option is written in this form, below.]"
   ]
  },
  {
   "cell_type": "code",
   "execution_count": 3,
   "metadata": {},
   "outputs": [],
   "source": [
    "def call_payoff(ST, K):\n",
    "    CT = np.where(ST > K, ST-K, 0)\n",
    "    return CT"
   ]
  },
  {
   "cell_type": "code",
   "execution_count": 10,
   "metadata": {},
   "outputs": [],
   "source": [
    "def ramp_payoff(ST, K):\n",
    "    RT = np.where(ST > K, 0, ST)\n",
    "    return RT"
   ]
  },
  {
   "cell_type": "code",
   "execution_count": 72,
   "metadata": {},
   "outputs": [
    {
     "name": "stdout",
     "output_type": "stream",
     "text": [
      "0\n",
      "2\n",
      "4\n"
     ]
    }
   ],
   "source": [
    "print(ramp_payoff(5, 3))\n",
    "print(ramp_payoff(2, 7))\n",
    "print(ramp_payoff(4, 4))"
   ]
  },
  {
   "cell_type": "markdown",
   "metadata": {},
   "source": [
    "**Q4(b)**\n",
    "\n",
    "Write a function to calculate the fair price, $R_0$, of the ramp option, using the formula\n",
    "\n",
    "$$\n",
    "R_0 = S_0\\Phi(-d_1)\n",
    "$$\n",
    "\n",
    "Define any other helpful functions that you need."
   ]
  },
  {
   "cell_type": "code",
   "execution_count": 7,
   "metadata": {},
   "outputs": [],
   "source": [
    "def calculate_d1(S0, K, r, sigma, T):\n",
    "    d1 = (np.log(S0/K)+(r+sigma**2/2)*T)/(sigma*np.sqrt(T))\n",
    "    return d1"
   ]
  },
  {
   "cell_type": "code",
   "execution_count": 5,
   "metadata": {},
   "outputs": [],
   "source": [
    "def ramp_price(S0, K, r, sigma, T):\n",
    "    d1 = calculate_d1(S0, K, r, sigma, T)\n",
    "    R0 = S0*Phi(-d1)\n",
    "    return R0"
   ]
  },
  {
   "cell_type": "code",
   "execution_count": 74,
   "metadata": {},
   "outputs": [
    {
     "name": "stdout",
     "output_type": "stream",
     "text": [
      "8.620349627072205\n"
     ]
    }
   ],
   "source": [
    "print(ramp_price(100,90, 0.05, 0.2, 12))"
   ]
  },
  {
   "cell_type": "markdown",
   "metadata": {},
   "source": [
    "**Q4(c)**\n",
    "\n",
    "Produce a figure that contains graph of $R_0$ against $S_0$ for $T=10$ ,$T=1$, $T=0.1$, for fixed (reasonable) values of the other parameters and compare these with a graph of the payoff function and the graph of $S_0$ itself.  Identify the effects of $T$ and $S_0$ on the value $R_0$ and explain why they occur in terms of asset paths and their payoffs."
   ]
  },
  {
   "cell_type": "code",
   "execution_count": 11,
   "metadata": {},
   "outputs": [
    {
     "data": {
      "image/png": "[encoded data removed]",
      "text/plain": [
       "<Figure size 432x288 with 1 Axes>"
      ]
     },
     "metadata": {
      "needs_background": "light"
     },
     "output_type": "display_data"
    }
   ],
   "source": [
    "%matplotlib inline\n",
    "import matplotlib.pyplot as plt\n",
    "\n",
    "K, r, sigma = 60, 0.05, 0.2\n",
    "S0 = np.linspace(0.01, 150, 1000)\n",
    "RT = ramp_payoff(S0, K)\n",
    "plt.figure()\n",
    "for T in 10, 1, 0.1:\n",
    "    R0 = ramp_price(S0, K, r, sigma, T)\n",
    "    plt.plot(S0, R0, label='$T=%s$'%T)\n",
    "plt.plot(S0, RT, label='$R_T\\ (S\\ constant)$')\n",
    "plt.xlabel(r'$S_0$')\n",
    "plt.ylabel(r'$R_0$')\n",
    "plt.title(r'Ramp option fair price against different actual asset price and different expiry')\n",
    "plt.legend() \n",
    "plt.show()"
   ]
  },
  {
   "cell_type": "code",
   "execution_count": 11,
   "metadata": {},
   "outputs": [],
   "source": [
    "#Considering specific values set for r and sigma, we can see that increase in actual asset \n",
    "#price(S0) increases the fair price of the ramp option(R0). However, it starts to drop\n",
    "#(finally 0) when S0 is getting closer to the strike price(K) as the payoff of ramp option at \n",
    "#expiry (RT) is 0 for asset price at expiry (ST) greater than K. S0 closer to K increases\n",
    "#the risk that asset price path crosses the strike price and stay higher, leaving 0 payoff.\n",
    "#Expiry (T) flattens the curve of the ramp option price more as it gets greater, there is more\n",
    "#time for asset price path to change either way of K, leaving 0 or ST payoff. "
   ]
  },
  {
   "cell_type": "markdown",
   "metadata": {},
   "source": [
    "#### Q4(d)\n",
    "\n",
    "You may make use of the following code from the labs."
   ]
  },
  {
   "cell_type": "code",
   "execution_count": 12,
   "metadata": {},
   "outputs": [],
   "source": [
    "import numpy as np\n",
    "\n",
    "def wiener(T, n):\n",
    "    t, dt = np.linspace(0, T, n, retstep=True)\n",
    "    Rz = np.random.normal(0, 1, size=n)\n",
    "    Rz[0] = 0.0\n",
    "    C = np.cumsum(Rz)\n",
    "    w = dt**0.5*C\n",
    "    return t, w\n",
    "\n",
    "def abm(x0, alpha, beta, T, n):\n",
    "    t, w = wiener(T, n)\n",
    "    x = x0 + alpha*t + beta*w\n",
    "    return t, x\n",
    "\n",
    "def gbm(S0, mu, sigma, T, n):\n",
    "    x0, alpha, beta = np.log(S0), mu-0.5*sigma**2, sigma\n",
    "    t, x = abm(x0, alpha, beta, T, n)\n",
    "    s = np.exp(x)\n",
    "    return t, s"
   ]
  },
  {
   "cell_type": "markdown",
   "metadata": {},
   "source": [
    "Write a function that performs the Monte Carlo method for estimating the option price,\n",
    "\n",
    "\\begin{eqnarray}\n",
    "V_0\n",
    "&=& e^{-rT}\\mathbb{E}_{\\mathcal{Q}}[V_T|S_0]\\\\\n",
    "&\\simeq& e^{-rT}\\frac{1}{m}\\sum_{j=0}^{m-1}f(\\underline{S}^{(j)}).\n",
    "\\end{eqnarray}\n",
    "\n",
    "given a payoff function $f$ that is a function of the whole path $\\underline{S}$ taken by the asset.  Your function should compute the discounted average payoff over $m$ GBM paths, each path having $n$ time-values.  An outline is provided below."
   ]
  },
  {
   "cell_type": "code",
   "execution_count": 13,
   "metadata": {},
   "outputs": [],
   "source": [
    "def monte_carlo(S0, r, sigma, T, n, m, path_payoff_function):\n",
    "    # ...your code here...\n",
    "    total = 0.0\n",
    "    for j in range(m):# m-number of loops(0 to m-1)\n",
    "        S = gbm(S0, r, sigma, T, n)[1]# calculates single risk neutral walk, taking second\n",
    "        VT = path_payoff_function(S)  # output of the gbm function([1]), than uses predefined\n",
    "        total = total + VT            # payoff function to get payoff value for each loop and  \n",
    "                                      # sums them up together giving 'total'\n",
    "    discounted_mean_payoff = np.exp(-r*T)*total/m# total/m gives average payoff, then it is discounted\n",
    "    return discounted_mean_payoff"
   ]
  },
  {
   "cell_type": "markdown",
   "metadata": {},
   "source": [
    "Test that your Monte Carlo function works by using it to price a ramp option.  [Hint: you will need to write a path-payoff function for the ramp option, that takes the whole path $\\underline{S}$ and the strike $K$ as inputs.  You should also make a suitable factory function.]"
   ]
  },
  {
   "cell_type": "code",
   "execution_count": 96,
   "metadata": {
    "tags": [
     "answer"
    ]
   },
   "outputs": [
    {
     "name": "stdout",
     "output_type": "stream",
     "text": [
      "80\n",
      "0\n"
     ]
    }
   ],
   "source": [
    "def ramp_path_payoff(S, K):\n",
    "    return ramp_payoff(S[-1],K)# uses ramp option predefined earlier, taking last element of \n",
    "                               #path S\n",
    "\n",
    "def make_ramp_path_payoff(K):#creates factory function which depend on path S only\n",
    "    def f(S):\n",
    "        return ramp_path_payoff(S, K)\n",
    "    return f\n",
    "\n",
    "S = np.array([100, 95, 105, 80])\n",
    "print(make_ramp_path_payoff(90)(S))#K=90\n",
    "print(make_ramp_path_payoff(70)(S))#K=70"
   ]
  },
  {
   "cell_type": "code",
   "execution_count": 78,
   "metadata": {
    "tags": [
     "answer"
    ]
   },
   "outputs": [
    {
     "data": {
      "text/plain": [
       "8.887279506672936"
      ]
     },
     "execution_count": 78,
     "metadata": {},
     "output_type": "execute_result"
    }
   ],
   "source": [
    "S0, r, sigma, T, n, m = 100, 0.05, 0.2, 10, 1000,100\n",
    "K = 90\n",
    "path_payoff_function = make_ramp_path_payoff(K)\n",
    "monte_carlo(S0, r, sigma, T, n, m, path_payoff_function)"
   ]
  },
  {
   "cell_type": "markdown",
   "metadata": {},
   "source": [
    "#### QUESTION 5 [25 MARKS]"
   ]
  },
  {
   "cell_type": "markdown",
   "metadata": {},
   "source": [
    "#### Q5(a)\n",
    "\n",
    "An Overflow Option, $Q$, is an option with a special asset value, $L$, called the *level*, such that $L>S_0$.  The payoff for an overflow option, given an asset path $\\underline{S}$, is determined by whether the share price ever rises above the level $L$, in which case the option gives zero payoff no matter what happens to the price of $S$  afterwards, otherwise the payoff is simply that of a ramp option.\n",
    "\n",
    "The payoff function for the overflow option is therefore given by\n",
    "\n",
    "$$\n",
    "Q_T = \\left\\{\n",
    "\\begin{array}{ll}\n",
    "0 & \\mbox{if $\\max(\\underline{S}) \\ge L$,}\\\\\n",
    "R_T & \\mbox{otherwise.}\n",
    "\\end{array}\n",
    "\\right.\n",
    "$$\n",
    "\n",
    "Write a suitable Python function for the path-payoff.  State which `numpy` function you have used for the $\\max$ in the above and why.  Write a factory function for making overflow payoff functions that depend on the path $\\underline{S}$ only."
   ]
  },
  {
   "cell_type": "code",
   "execution_count": 85,
   "metadata": {
    "tags": [
     "answer"
    ]
   },
   "outputs": [],
   "source": [
    "def overflow_payoff(S, L, K):\n",
    "    RT = make_ramp_path_payoff(K)(S)\n",
    "    QT = np.where(np.max(S) >= L, 0, RT)#np.maximum uses multidimensional arrays, \n",
    "                                        #while np.max works on single input array, which we need here\n",
    "    return QT\n",
    "def make_overflow_payoff(L,K):\n",
    "    def g(S):\n",
    "        return overflow_payoff(S, L, K)\n",
    "    return g"
   ]
  },
  {
   "cell_type": "code",
   "execution_count": 87,
   "metadata": {},
   "outputs": [
    {
     "name": "stdout",
     "output_type": "stream",
     "text": [
      "80\n",
      "0\n",
      "80\n",
      "0\n"
     ]
    }
   ],
   "source": [
    "S = np.array([100, 95, 115, 80])\n",
    "print(overflow_payoff(S,120,90))\n",
    "print(overflow_payoff(S,110,90))\n",
    "ovf1 = make_overflow_payoff(120, 90)\n",
    "ovf2 = make_overflow_payoff(110, 90)\n",
    "print(ovf1(S))\n",
    "print(ovf2(S))"
   ]
  },
  {
   "cell_type": "markdown",
   "metadata": {},
   "source": [
    "#### Q5(b)\n",
    "\n",
    "The exact price of an Overflow Option with level $L$ is zero for all $S_0\\ge L$.  It is conjectured that for $S_0<L$ the price is given by the formula\n",
    "\n",
    "$$\n",
    "Q_0 = R(S_0,K,r,\\sigma,T) - \\left(\\frac{S_0}{L}\\right)^{1-2r/\\sigma^2}R\\left(\\frac{L^2}{S_0},K,r,\\sigma,T\\right),\n",
    "$$\n",
    "\n",
    "where $R$ denotes the price formula of a ramp option. \n",
    "\n",
    "Write a Python function to compute the option value using the above formula."
   ]
  },
  {
   "cell_type": "code",
   "execution_count": 4,
   "metadata": {
    "tags": [
     "answer"
    ]
   },
   "outputs": [],
   "source": [
    "def overflow_price(S0, K, r, sigma, T, L):\n",
    "    R0 = ramp_price(S0, K, r, sigma, T)\n",
    "    R01 = ramp_price(L**2/S0, K, r, sigma, T)\n",
    "    Q0 = R0-(S0/L)**(1-2*r/sigma**2)*R01\n",
    "    return np.where(S0 >= L, 0, Q0)    "
   ]
  },
  {
   "cell_type": "code",
   "execution_count": 89,
   "metadata": {
    "tags": [
     "answer"
    ]
   },
   "outputs": [
    {
     "name": "stdout",
     "output_type": "stream",
     "text": [
      "3.7074781511305943\n",
      "0.0\n"
     ]
    }
   ],
   "source": [
    "print(overflow_price(85, 80, 0.1, 0.2, 2, 90))\n",
    "print(overflow_price(95, 80, 0.1, 0.2, 2, 90))"
   ]
  },
  {
   "cell_type": "markdown",
   "metadata": {},
   "source": [
    "Make a figure comparing (1) the graph of the ramp option price $R_0$ against $S_0$ with (2) the graph of the overflow option price $Q_0$ against $S_0$. [You may take the case $K=80,r=0.1,\\sigma=0.2,T=2, L=90$.]\n",
    "\n",
    "Explain the reasons for the similarities and differences between the graphs in terms of asset paths starting from $S_0$ for (i) $S_0<L$ with $S_0$ far from $L$, (ii) $S_0<L$ with $S_0$ near $L$, (iii) $S_0>L$ with $S_0$ near $L$, and (iv) $S_0>L$ with $S_0$ far from $L$."
   ]
  },
  {
   "cell_type": "code",
   "execution_count": 67,
   "metadata": {},
   "outputs": [
    {
     "data": {
      "image/png": "[encoded data removed]",
      "text/plain": [
       "<Figure size 432x288 with 1 Axes>"
      ]
     },
     "metadata": {
      "needs_background": "light"
     },
     "output_type": "display_data"
    }
   ],
   "source": [
    "K, r, sigma, T, L = 80, 0.1, 0.2, 2, 90\n",
    "S0 = np.linspace(0.01, 200, 1000)\n",
    "Q0 = overflow_price(S0, K, r, sigma, T, L)\n",
    "R0 = ramp_price(S0, K, r, sigma, T)\n",
    "plt.figure()\n",
    "plt.plot(S0, R0, label='$Ramp\\ option$')\n",
    "plt.plot(S0, Q0, label='$Overflow\\ option$')\n",
    "plt.xlabel(r'$Actual\\ asset\\ price\\ (S_0)$')\n",
    "plt.ylabel(r'$Option\\ fair\\ price$')\n",
    "plt.title(r'Ramp option and Overflow option comparison')\n",
    "plt.legend() \n",
    "plt.show()"
   ]
  },
  {
   "cell_type": "code",
   "execution_count": 21,
   "metadata": {},
   "outputs": [],
   "source": [
    "#i) Both options have same price, RT depends on value of K and QT on value of L. K and L are \n",
    "    # close to each other, hence if S0 is far away from L to the left, they are essentially\n",
    "    #same options.\n",
    "#ii) When S0 approaches L from the left, otions drop in price, however, overflow option price \n",
    "    #tends to drop quicker because if asset price ever crosses L to the right, QT is zero.\n",
    "#iii) and iv) Graph of Q0 must be zero to the right of L as its payoff is zero in all cases. \n",
    "    # R0 continues to drop as S0 crossed L to the right(L>K), although asset price can drop\n",
    "    # and non-zero payoff is possible."
   ]
  },
  {
   "cell_type": "markdown",
   "metadata": {},
   "source": [
    "#### Q5(c)\n",
    "\n",
    "Find the conjectured value $Q_0$ of an Overflow option using the function you created in part (b) above, for the case $S_0=70$, $r=0.1$, $\\sigma=0.2$, $T=2$, $K=80$, and $L=90$.\n",
    "\n",
    "(i) Explore convergence of the monte carlo method thoroughly for these values.  Does it appear to converge to the result of the proposed formula?  If not, what do you observe?  (ii) Choose an example with $S_0<L<K$. What do you observe?  What does the numerical evidence suggest about the validity of the formula given in part (b)?"
   ]
  },
  {
   "cell_type": "code",
   "execution_count": 90,
   "metadata": {
    "tags": [
     "answer"
    ]
   },
   "outputs": [
    {
     "name": "stdout",
     "output_type": "stream",
     "text": [
      "19.785578773255153\n"
     ]
    }
   ],
   "source": [
    "S0, r, sigma, T, K, L = 70, 0.1, 0.2, 2, 80, 90\n",
    "print(overflow_price(S0, K, r, sigma, T, L))"
   ]
  },
  {
   "cell_type": "code",
   "execution_count": 91,
   "metadata": {
    "tags": [
     "answer"
    ]
   },
   "outputs": [],
   "source": [
    "def monte_carlo_estimates(S0, r, sigma, T, n, m, path_payoff_function):\n",
    "    QT = np.zeros(m)\n",
    "    for j in range(m):\n",
    "        S = gbm(S0, r, sigma, T, n)[1]\n",
    "        VT = path_payoff_function(S)\n",
    "        QT[j] = VT\n",
    "    averages = np.cumsum(QT)/np.array(range(1, m+1)) \n",
    "    estimates = np.exp(-r*T)*averages\n",
    "    return estimates"
   ]
  },
  {
   "cell_type": "code",
   "execution_count": 95,
   "metadata": {},
   "outputs": [
    {
     "name": "stdout",
     "output_type": "stream",
     "text": [
      "Simulation 0 final estimate of price 20.976508357835733\n",
      "Simulation 1 final estimate of price 20.967363161046684\n",
      "Simulation 2 final estimate of price 20.870834321799144\n"
     ]
    },
    {
     "data": {
      "image/png": "[encoded data removed]",
      "text/plain": [
       "<Figure size 432x288 with 1 Axes>"
      ]
     },
     "metadata": {
      "needs_background": "light"
     },
     "output_type": "display_data"
    }
   ],
   "source": [
    "S0, r, sigma, T, K, L = 70, 0.1, 0.2, 2, 80, 90\n",
    "ovf = make_overflow_payoff(L,K)\n",
    "n = 100\n",
    "m = 10000\n",
    "\n",
    "plt.figure()\n",
    "plt.xlabel('# paths used')\n",
    "plt.ylabel('Monte Carlo estimate')\n",
    "for k in range(3):\n",
    "    estimates = monte_carlo_estimates(S0, r, sigma, T, n, m, ovf)\n",
    "    plt.plot(estimates)\n",
    "    print('Simulation', k, 'final estimate of price', estimates[-1])\n",
    "plt.show()"
   ]
  },
  {
   "cell_type": "code",
   "execution_count": null,
   "metadata": {},
   "outputs": [],
   "source": [
    "#i) It does not appear to converge to the result of the given formula. It is close but slightly\n",
    " # higher.(about 1 currency unit). Using the monte carlo method we can see that it converges to \n",
    " # stable result after approx. over 4000 paths."
   ]
  },
  {
   "cell_type": "code",
   "execution_count": 64,
   "metadata": {},
   "outputs": [
    {
     "name": "stdout",
     "output_type": "stream",
     "text": [
      "7.58265042323848\n",
      "Simulation 0 final estimate of price 11.670330096864072\n",
      "Simulation 1 final estimate of price 11.788248023911638\n",
      "Simulation 2 final estimate of price 11.788472112226788\n"
     ]
    },
    {
     "data": {
      "image/png": "[encoded data removed]",
      "text/plain": [
       "<Figure size 432x288 with 1 Axes>"
      ]
     },
     "metadata": {
      "needs_background": "light"
     },
     "output_type": "display_data"
    }
   ],
   "source": [
    "S0, r, sigma, T, K, L = 70, 0.1, 0.2, 2, 90, 80\n",
    "print(overflow_price(S0, K, r, sigma, T, L))\n",
    "ovf = make_overflow_payoff(L,K)\n",
    "n = 100\n",
    "m = 10000\n",
    "\n",
    "plt.figure()\n",
    "plt.xlabel('# paths used')\n",
    "plt.ylabel('Monte Carlo estimate')\n",
    "for k in range(3):\n",
    "    estimates = monte_carlo_estimates(S0, r, sigma, T, n, m, ovf)\n",
    "    plt.plot(estimates)\n",
    "    print('Simulation', k, 'final estimate of price', estimates[-1])\n",
    "plt.show()"
   ]
  },
  {
   "cell_type": "code",
   "execution_count": null,
   "metadata": {},
   "outputs": [],
   "source": [
    "#ii) Using an example with S0 < L < K, final estimate of price is about 50% higher than price\n",
    "   # calculated via given formula. Numerical evidence suggests that the proposed formula is not\n",
    "   # valid."
   ]
  },
  {
   "cell_type": "markdown",
   "metadata": {},
   "source": [
    "**Q5(d)**\n",
    "\n",
    "Consider the difference $U=R-Q$. Produce a graph of the quantity $U_0=R_0-Q_0$ against $S_0$.  By thinking about the equation $Q_T+U_T=R_T$, and the possible cases $\\max(\\underline{S})\\ge L$ and $\\max(\\underline{S})<L$, define an option whose value is represented by $U_0$ (and, hence, by the graph)."
   ]
  },
  {
   "cell_type": "code",
   "execution_count": 13,
   "metadata": {},
   "outputs": [
    {
     "data": {
      "image/png": "[encoded data removed]",
      "text/plain": [
       "<Figure size 432x288 with 1 Axes>"
      ]
     },
     "metadata": {
      "needs_background": "light"
     },
     "output_type": "display_data"
    }
   ],
   "source": [
    "r, sigma, T, K, L = 0.1, 0.2, 2, 80, 90\n",
    "S0 = np.linspace(0.01, 200, 1000)\n",
    "Q0 = overflow_price(S0, K, r, sigma, T, L)\n",
    "R0 = ramp_price(S0, K, r, sigma, T)\n",
    "U0 = R0 - Q0\n",
    "plt.figure()\n",
    "plt.plot(S0,U0, label='$U_0=R_0-Q_0$')\n",
    "plt.xlabel(r'$Actual\\ asset\\ price\\ (S_0)$')\n",
    "plt.ylabel(r'$U_0\\ Price$')\n",
    "plt.title(r'Difference between ramp and overflow options')\n",
    "plt.legend() \n",
    "plt.show()"
   ]
  },
  {
   "cell_type": "code",
   "execution_count": null,
   "metadata": {},
   "outputs": [],
   "source": [
    "#Going short on call and put with the same strike price K=L=90 (short Straddle) is the same value as the one\n",
    "#represented by U0."
   ]
  }
 ],
 "metadata": {
  "@webio": {
   "lastCommId": null,
   "lastKernelId": null
  },
  "kernelspec": {
   "display_name": "Python 3 (ipykernel)",
   "language": "python",
   "name": "python3"
  },
  "language_info": {
   "codemirror_mode": {
    "name": "ipython",
    "version": 3
   },
   "file_extension": ".py",
   "mimetype": "text/x-python",
   "name": "python",
   "nbconvert_exporter": "python",
   "pygments_lexer": "ipython3",
   "version": "3.9.12"
  }
 },
 "nbformat": 4,
 "nbformat_minor": 2
}
